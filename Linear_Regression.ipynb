import numpy as np
import pandas as pd
import matplotlib.pyplot as plt
from matplotlib import rcParams
from matplotlib.cm import rainbow
%matplotlib inline

Heart=pd.read_csv("F:/PCS_Documents/Heart-Disease-Prediction-master/dataset.csv")
Heart.head()

figure=plt.figure()
ax=figure.add_subplot(1,1,1)
ax.hist(Heart['age'],bins=50,color='g',alpha=0.5)

figure=plt.figure()
ax=figure.add_subplot(1,1,1)
ax.scatter("age","trestbps",data=Heart,color='g',marker='o',s=40)
ax.set_xlabel("age(year)")
ax.set_ylabel("trestbps(s)")

import statsmodels.formula.api as smf
model=smf.ols('trestbps ~ age',data=Heart)
result=model.fit()
print(result.summary())

from statsmodels.stats.anova import anova_lm
anova_table=anova_lm(result,type=1)
print(anova_table)

Heart['Heart_attack']=result.predict()

Heart.head()

figure=plt.figure()
ax=figure.add_subplot(1,1,1)
ax.scatter("age","trestbps",data=Heart,color='g',marker='o',s=40)
ax.plot('age','Heart_attack',data=Heart,color='r')
ax.set_xlabel("age(year)")
ax.set_ylabel("trestbps(s)")
ax.set_title("Estimated Heart Attacks")
ax.legend(loc='lower right')