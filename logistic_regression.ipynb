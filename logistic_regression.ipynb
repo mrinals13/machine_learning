import pandas as pd
from sklearn import linear_model
import matplotlib.pyplot as plt 

diab=pd.read_csv(r"/home/mrinal/F_Drive_Backup/PCS_Documents/pima-indians-diabetes-database/diabetes.csv")
diab.head()

feature_cols = ['Pregnancies', 'Insulin', 'BMI', 'Age','Glucose','BloodPressure','DiabetesPedigreeFunction']
X = diab[feature_cols] 
y = diab.Outcome

from sklearn.model_selection import train_test_split

X_train,x_test,y_train,y_test=train_test_split(X,y,test_size=0.25,random_state=0)

from sklearn.linear_model import LogisticRegression
from sklearn.linear_model import LogisticRegression
from sklearn.metrics import classification_report
from sklearn.metrics import confusion_matrix,accuracy_score

model=linear_model.LogisticRegression()

result=model.fit(X_train,y_train)

y_pred=result.predict(x_test)

from sklearn import metrics
cnf_matrix = metrics.confusion_matrix(y_test, y_pred)
cnf_matrix

print("Accuracy:",metrics.accuracy_score(y_test,y_pred))

predictions = result.predict(x_test)
print(classification_report(y_test, predictions))
print(confusion_matrix(y_test, predictions))
print(accuracy_score(y_test, predictions))

y_pred=result.predict_proba(x_test)[::,1]
fpr,tpr,_=metrics.roc_curve(y_test,y_pred)
auc=metrics.roc_auc_score(y_test,y_pred)
plt.plot(fpr,tpr,label='data,auc='+str(auc),color='r')
plt.legend(loc=4)
plt.show()